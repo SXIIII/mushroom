{
 "cells": [
  {
   "cell_type": "code",
   "execution_count": 1,
   "metadata": {},
   "outputs": [],
   "source": [
    "import os\n",
    "import numpy as np\n",
    "import shutil\n",
    "# import os\n",
    "os.environ['CUDA_VISIBLE_DEVICES'] = '/gpu:1'#解决在epoch1时出现的未知问题"
   ]
  },
  {
   "cell_type": "code",
   "execution_count": 2,
   "metadata": {
    "scrolled": true
   },
   "outputs": [
    {
     "name": "stdout",
     "output_type": "stream",
     "text": [
      "build TRAIN_PATH direction\n",
      "build TEST_PATH direction\n",
      "build target direction\n",
      "build target direction\n",
      "build target direction\n",
      "build target direction\n",
      "build target direction\n",
      "build target direction\n",
      "build target direction\n",
      "build target direction\n",
      "build target direction\n",
      "build target direction\n",
      "build target direction\n",
      "build target direction\n",
      "build target direction\n",
      "build target direction\n",
      "build target direction\n",
      "build target direction\n",
      "build target direction\n",
      "build target direction\n"
     ]
    }
   ],
   "source": [
    "def read_img_path(file_path):\n",
    "    path = os.listdir(file_path)\n",
    "    path = [os.path.join(file_path,p) for p in path]\n",
    "    return path\n",
    "def build_remove(source,target):\n",
    "    if not os.path.exists(target):\n",
    "        os.mkdir(target)\n",
    "        print(\"build target direction\")\n",
    "    for image in source:\n",
    "        shutil.copy(image,target+'\\\\'+image.split(\"\\\\\")[-1])\n",
    "        \n",
    "if __name__ == '__main__':\n",
    "    os.chdir(\"..\")\n",
    "    #分到train和test中\n",
    "    SOURCE_PATH = 'C:/mushroomdata/Mushrooms'\n",
    "    resizeTrainAndTest = 'C:/mushroomdata/valAndTrain'\n",
    "    if not os.path.exists(resizeTrainAndTest):\n",
    "        os.mkdir(resizeTrainAndTest)\n",
    "        print(\"build resizeTrainAndTest direction\")\n",
    "    TRAIN_PATH = os.path.join(resizeTrainAndTest,\"train\")\n",
    "    VAL_PATH = os.path.join(resizeTrainAndTest,\"val\")\n",
    "    #切换到训练夹目录下后\n",
    "    if not os.path.exists(TRAIN_PATH):\n",
    "        os.mkdir(TRAIN_PATH)\n",
    "        print(\"build TRAIN_PATH direction\")\n",
    "    if not os.path.exists(VAL_PATH):\n",
    "        os.mkdir(VAL_PATH)\n",
    "        print(\"build TEST_PATH direction\")\n",
    "    for cur_path in os.listdir(SOURCE_PATH):\n",
    "        cur =np.asarray(read_img_path(os.path.join(SOURCE_PATH,cur_path)))\n",
    "        np.random.shuffle(cur)\n",
    "        train = cur[:int(len(cur)*0.7)]\n",
    "        val = cur[int(len(cur)*0.7):]\n",
    "        #文件移动resizeTrainAndTest下的train和val中的norm和flaws\n",
    "        build_remove(train,os.path.join(resizeTrainAndTest,'train',cur_path))\n",
    "        build_remove(val,os.path.join(resizeTrainAndTest,'val',cur_path))"
   ]
  },
  {
   "cell_type": "code",
   "execution_count": 3,
   "metadata": {},
   "outputs": [
    {
     "name": "stderr",
     "output_type": "stream",
     "text": [
      "Using TensorFlow backend.\n"
     ]
    }
   ],
   "source": [
    "from keras.layers import GlobalAveragePooling2D\n",
    "from keras.applications import vgg16,inception_v3,resnet50\n",
    "from keras.preprocessing.image import ImageDataGenerator\n",
    "from keras.models import Model\n",
    "import numpy as np\n",
    "import h5py\n",
    "from tqdm import tqdm\n",
    "import os,cv2"
   ]
  },
  {
   "cell_type": "code",
   "execution_count": 4,
   "metadata": {},
   "outputs": [],
   "source": [
    "from PIL import ImageFile\n",
    "ImageFile.LOAD_TRUNCATED_IMAGES = True\n",
    "\n",
    "Xception_wights='C:/mushroomdata/xception_weights_tf_dim_ordering_tf_kernels_notop.h5'\n",
    "InceptionV3_wights='C:/mushroomdata/inception_v3_weights_tf_dim_ordering_tf_kernels_notop.h5'\n",
    "inception_resnet_v2_wights='C:/mushroomdata/inception_resnet_v2_weights_tf_dim_ordering_tf_kernels_notop.h5'\n",
    "resnet50_wights='C:/mushroomdata/resnet50_weights_tf_dim_ordering_tf_kernels_notop.h5'\n",
    "VGG16_wights='C:/mushroomdata/vgg16_weights_tf_dim_ordering_tf_kernels_notop.h5'"
   ]
  },
  {
   "cell_type": "code",
   "execution_count": 5,
   "metadata": {},
   "outputs": [
    {
     "name": "stdout",
     "output_type": "stream",
     "text": [
      "WARNING:tensorflow:From C:\\Anaconda\\lib\\site-packages\\tensorflow\\python\\framework\\op_def_library.py:263: colocate_with (from tensorflow.python.framework.ops) is deprecated and will be removed in a future version.\n",
      "Instructions for updating:\n",
      "Colocations handled automatically by placer.\n",
      "Found 4697 images belonging to 9 classes.\n"
     ]
    },
    {
     "name": "stderr",
     "output_type": "stream",
     "text": [
      "C:\\Anaconda\\lib\\site-packages\\keras_preprocessing\\image\\image_data_generator.py:716: UserWarning: This ImageDataGenerator specifies `featurewise_center`, but it hasn't been fit on any training data. Fit it first by calling `.fit(numpy_data)`.\n",
      "  warnings.warn('This ImageDataGenerator specifies '\n",
      "C:\\Anaconda\\lib\\site-packages\\keras_preprocessing\\image\\image_data_generator.py:724: UserWarning: This ImageDataGenerator specifies `featurewise_std_normalization`, but it hasn't been fit on any training data. Fit it first by calling `.fit(numpy_data)`.\n",
      "  warnings.warn('This ImageDataGenerator specifies '\n"
     ]
    },
    {
     "name": "stdout",
     "output_type": "stream",
     "text": [
      "Found 2017 images belonging to 9 classes.\n"
     ]
    },
    {
     "name": "stderr",
     "output_type": "stream",
     "text": [
      "100%|████████████████████████████████████████████████████████████████████████████████| 294/294 [09:15<00:00,  1.66s/it]\n",
      "100%|████████████████████████████████████████████████████████████████████████████████| 127/127 [03:57<00:00,  1.37s/it]\n",
      "C:\\Anaconda\\lib\\site-packages\\keras_applications\\resnet50.py:265: UserWarning: The output shape of `ResNet50(include_top=False)` has been changed since Keras 2.2.0.\n",
      "  warnings.warn('The output shape of `ResNet50(include_top=False)` '\n"
     ]
    },
    {
     "name": "stdout",
     "output_type": "stream",
     "text": [
      "Found 4697 images belonging to 9 classes.\n",
      "Found 2017 images belonging to 9 classes.\n"
     ]
    },
    {
     "name": "stderr",
     "output_type": "stream",
     "text": [
      "100%|████████████████████████████████████████████████████████████████████████████████| 294/294 [20:13<00:00,  3.57s/it]\n",
      "100%|████████████████████████████████████████████████████████████████████████████████| 127/127 [08:37<00:00,  3.04s/it]\n"
     ]
    }
   ],
   "source": [
    "def white_gap(input_size,Models,lamda_func,name):\n",
    "#     basic_model = Models(include_top = False,weights = 'imagenet')\n",
    "    if name=='resnet50':\n",
    "        basic_model = Models(weights=resnet50_wights, include_top=False)\n",
    "    elif name=='vgg16':\n",
    "        basic_model = Models(weights=VGG16_wights, include_top=False)\n",
    "    elif name=='inception_v3':\n",
    "        basic_model = Models(weights=InceptionV3_wights, include_top=False)\n",
    "        \n",
    "    feature = GlobalAveragePooling2D()(basic_model.output)\n",
    "    model = Model(inputs = basic_model.input,outputs = feature)\n",
    "    \n",
    "    tra_gen = ImageDataGenerator(\n",
    "#          rescale=1./255,\n",
    "         featurewise_center=True,\n",
    "         featurewise_std_normalization=True,\n",
    "         rotation_range=20,\n",
    "         width_shift_range=0.2,\n",
    "         height_shift_range=0.2,\n",
    "         horizontal_flip=True)\n",
    "    \n",
    "    v_gen = ImageDataGenerator()\n",
    "    \n",
    "    train_gen = tra_gen.flow_from_directory(r\"C:\\mushroomdata\\valAndTrain\\train\",\n",
    "                                        shuffle = False,batch_size = 16,\n",
    "                                        class_mode = 'categorical',\n",
    "                                        target_size = input_size,\n",
    "#                                         interpolation='antialias',\n",
    "                                         )\n",
    "    for i in range(1):\n",
    "        train_gen.next()\n",
    "        \n",
    "    val_gen = v_gen.flow_from_directory(r\"C:\\mushroomdata\\valAndTrain\\val\",\n",
    "                                        shuffle = False,batch_size = 16,\n",
    "                                        class_mode = 'categorical',\n",
    "                                        target_size = input_size,\n",
    "#                                         interpolation='antialias',\n",
    "                                        )\n",
    "#     for i in range(1):\n",
    "#         val_gen.next()\n",
    "    #predict_generator中的steps是指预测多少个batch，即生成器生成多少次。train_gen.n是所有样本数\n",
    "    ntrain_batch = int(np.ceil(train_gen.n/16.))\n",
    "    train_feature = []\n",
    "    train_labels = []\n",
    "    #将hog值和特征一批一批的提取出来\n",
    "    for e in tqdm(range(ntrain_batch)):\n",
    "        (data,label) = train_gen.next()\n",
    "        train_labels.append(label)\n",
    "        data =lamda_func(data)\n",
    "        feature = model.predict(data)\n",
    "        #提取特征，加入train_feature中\n",
    "        train_feature.append(feature)\n",
    "        \n",
    "    train_feature = np.concatenate(train_feature,axis = 0)\n",
    "    train_labels = np.concatenate(train_labels)\n",
    "    #nval_batch是val上batch的次数，用一个train_feature能指定内存，无需动态分配\n",
    "    nval_batch = int(np.ceil(val_gen.n/16.))\n",
    "    val_feature = []\n",
    "    val_labels = []\n",
    "    for e in tqdm(range(nval_batch)):\n",
    "        (data,label) = val_gen.next()\n",
    "        val_labels.append(label)\n",
    "        data =lamda_func(data)\n",
    "        feature = model.predict(data)\n",
    "        val_feature.append(feature)\n",
    "    \n",
    "    val_feature = np.concatenate(val_feature,axis = 0)\n",
    "    val_labels = np.concatenate(val_labels)\n",
    "    \n",
    "    dt = h5py.special_dtype(vlen = str)\n",
    "    with h5py.File(\"C:/flower/multi_gap_%s.h5\"%(name),'w') as h:\n",
    "        h.create_dataset(\"train\", data=train_feature)\n",
    "        h.create_dataset(\"val\", data=val_feature)\n",
    "#        h.create_dataset('test',data = test_feature)\n",
    "        h.create_dataset(\"train_labels\", data=train_labels)\n",
    "        h.create_dataset(\"val_labels\", data=val_labels)\n",
    "os.chdir(\"..\")\n",
    "# white_gap((200,200),vgg16.VGG16,vgg16.preprocess_input,'vgg16')\n",
    "white_gap((200,200),inception_v3.InceptionV3,inception_v3.preprocess_input,'inception_v3')\n",
    "white_gap((200,200),resnet50.ResNet50,resnet50.preprocess_input,'resnet50')"
   ]
  },
  {
   "cell_type": "code",
   "execution_count": 6,
   "metadata": {},
   "outputs": [
    {
     "name": "stdout",
     "output_type": "stream",
     "text": [
      "(4697, 2048)\n",
      "(4697, 9)\n",
      "(2017, 2048)\n",
      "(2017, 9)\n",
      "(4697, 2048)\n",
      "(4697, 9)\n",
      "(2017, 2048)\n",
      "(2017, 9)\n",
      "(4697, 4096)\n",
      "(4697, 9)\n",
      "(2017, 4096)\n",
      "(2017, 9)\n"
     ]
    },
    {
     "data": {
      "text/plain": [
       "[array([[0.04970451, 0.2817775 , 0.13553712, ..., 0.465056  , 1.9239676 ,\n",
       "         1.2585347 ],\n",
       "        [0.52871424, 0.10387077, 1.4512004 , ..., 0.12563622, 3.4663272 ,\n",
       "         1.0720317 ],\n",
       "        [0.00901082, 0.9331006 , 0.4637312 , ..., 0.        , 0.94301355,\n",
       "         2.9276333 ],\n",
       "        ...,\n",
       "        [0.22900288, 1.1964216 , 2.3736343 , ..., 0.0885327 , 0.10295395,\n",
       "         5.0077906 ],\n",
       "        [0.01328939, 0.0084381 , 0.22584765, ..., 0.20923793, 1.6411291 ,\n",
       "         1.9162958 ],\n",
       "        [0.07305406, 0.        , 0.27536568, ..., 0.        , 0.01272158,\n",
       "         1.5498531 ]], dtype=float32), array([[0., 0., 1., ..., 0., 0., 0.],\n",
       "        [0., 0., 0., ..., 0., 0., 0.],\n",
       "        [0., 0., 0., ..., 1., 0., 0.],\n",
       "        ...,\n",
       "        [0., 0., 0., ..., 1., 0., 0.],\n",
       "        [0., 1., 0., ..., 0., 0., 0.],\n",
       "        [0., 0., 0., ..., 0., 0., 0.]], dtype=float32)]"
      ]
     },
     "execution_count": 6,
     "metadata": {},
     "output_type": "execute_result"
    }
   ],
   "source": [
    "import h5py\n",
    "import numpy as np\n",
    "from sklearn.utils import shuffle\n",
    "from keras.layers import Input,Dense,Dropout\n",
    "from keras.models import Model\n",
    "from sklearn.metrics import roc_auc_score\n",
    "#from train_with_feature import build_test\n",
    "import os\n",
    "os.chdir(\"..\")\n",
    "x_train,x_val=[],[]\n",
    "model_list = ['inception_v3','resnet50']# ,'vgg16'\n",
    "\n",
    "np.random.seed(100)\n",
    "for modelName in model_list:\n",
    "    with h5py.File(\"C:/flower/multi_gap_%s.h5\"%(modelName),'r') as h:\n",
    "        print(h[\"train\"].shape)#\n",
    "        print(h['train_labels'].shape)#\n",
    "        print(h['val'].shape)#\n",
    "        print(h['val_labels'].shape)#\n",
    "        x_train.append(np.array(h[\"train\"]))\n",
    "        y_train = np.array(h['train_labels'])\n",
    "        x_val.append(np.array(h['val']))\n",
    "        y_val = np.array(h['val_labels'])\n",
    "        \n",
    "x_train = np.concatenate(x_train,axis = 1)\n",
    "x_val = np.concatenate(x_val,axis = 1)\n",
    "print(x_train.shape)\n",
    "print(y_train.shape)#特征lable值\n",
    "print(x_val.shape)\n",
    "print(y_val.shape)#特征lable值\n",
    "#x_test = np.concatenate(x_test,axis = 1)\n",
    "#特征提取出来后随机打乱    \n",
    "shuffle(x_train,y_train)\n",
    "shuffle(x_val,y_val)"
   ]
  },
  {
   "cell_type": "code",
   "execution_count": 7,
   "metadata": {},
   "outputs": [],
   "source": [
    "import keras\n",
    "from keras.layers import BatchNormalization\n",
    "#构造图结构，函数化结构\n",
    "inputs = Input((x_train.shape[1],))\n",
    "x = BatchNormalization()(inputs, training=False)\n",
    "x = Dense(512,activation = 'relu',\n",
    "          kernel_initializer = 'TruncatedNormal')(x)\n",
    "x = BatchNormalization()(x, training=False)\n",
    "x = Dense(256,activation = 'relu',\n",
    "          kernel_initializer = 'TruncatedNormal')(x)\n",
    "outputs = Dense(9,activation = 'softmax',)(x)\n",
    "model = Model(inputs = inputs,outputs = outputs)\n",
    "\n",
    "from keras import optimizers\n",
    "sgd = optimizers.Adam(lr=0.001, beta_1=0.9, beta_2=0.999)\n",
    "model.compile(optimizer = sgd,loss = 'categorical_crossentropy',metrics = ['accuracy'])"
   ]
  },
  {
   "cell_type": "code",
   "execution_count": 8,
   "metadata": {},
   "outputs": [],
   "source": [
    "# Early stopping & checkpointing the best model in ../working dir & restoring that as our model for prediction\n",
    "from tensorflow.python.keras.callbacks import EarlyStopping, ModelCheckpoint,ReduceLROnPlateau\n",
    "reduce_lr = ReduceLROnPlateau(monitor='val_loss', factor=0.5, patience=5, mode='auto')\n",
    "cb_early_stopper = EarlyStopping(monitor = 'val_loss', patience = 10)\n",
    "cb_checkpointer = ModelCheckpoint(filepath = 'best.hdf5', monitor = 'val_loss', save_best_only = True, mode = 'auto')"
   ]
  },
  {
   "cell_type": "code",
   "execution_count": 9,
   "metadata": {},
   "outputs": [
    {
     "name": "stdout",
     "output_type": "stream",
     "text": [
      "WARNING:tensorflow:From C:\\Anaconda\\lib\\site-packages\\tensorflow\\python\\ops\\math_ops.py:3066: to_int32 (from tensorflow.python.ops.math_ops) is deprecated and will be removed in a future version.\n",
      "Instructions for updating:\n",
      "Use tf.cast instead.\n",
      "Train on 4697 samples, validate on 2017 samples\n",
      "Epoch 1/30\n",
      " - 6s - loss: 1.7509 - acc: 0.4680 - val_loss: 1.0685 - val_acc: 0.6311\n",
      "Epoch 2/30\n",
      " - 4s - loss: 0.8774 - acc: 0.6877 - val_loss: 0.9420 - val_acc: 0.6812\n",
      "Epoch 3/30\n",
      " - 4s - loss: 0.6386 - acc: 0.7813 - val_loss: 0.9876 - val_acc: 0.6500\n",
      "Epoch 4/30\n",
      " - 4s - loss: 0.5407 - acc: 0.8088 - val_loss: 0.9266 - val_acc: 0.6981\n",
      "Epoch 5/30\n",
      " - 4s - loss: 0.3421 - acc: 0.8891 - val_loss: 0.8164 - val_acc: 0.7521\n",
      "Epoch 6/30\n",
      " - 3s - loss: 0.2696 - acc: 0.9080 - val_loss: 0.9833 - val_acc: 0.7194\n",
      "Epoch 7/30\n",
      " - 3s - loss: 0.1881 - acc: 0.9408 - val_loss: 0.9776 - val_acc: 0.7437\n",
      "Epoch 8/30\n",
      " - 3s - loss: 0.1427 - acc: 0.9553 - val_loss: 0.9568 - val_acc: 0.7467\n",
      "Epoch 9/30\n",
      " - 3s - loss: 0.0770 - acc: 0.9791 - val_loss: 1.1418 - val_acc: 0.7184\n",
      "Epoch 10/30\n",
      " - 3s - loss: 0.0785 - acc: 0.9738 - val_loss: 1.0869 - val_acc: 0.7432\n",
      "Epoch 11/30\n",
      " - 3s - loss: 0.0460 - acc: 0.9891 - val_loss: 1.1814 - val_acc: 0.7313\n",
      "Epoch 12/30\n",
      " - 4s - loss: 0.0194 - acc: 0.9977 - val_loss: 1.1476 - val_acc: 0.7561\n",
      "Epoch 13/30\n",
      " - 4s - loss: 0.0066 - acc: 1.0000 - val_loss: 1.1819 - val_acc: 0.7615\n",
      "Epoch 14/30\n",
      " - 3s - loss: 0.0034 - acc: 1.0000 - val_loss: 1.2316 - val_acc: 0.7630\n",
      "Epoch 15/30\n",
      " - 4s - loss: 0.0021 - acc: 1.0000 - val_loss: 1.2251 - val_acc: 0.7635\n",
      "Epoch 16/30\n",
      " - 3s - loss: 0.0017 - acc: 1.0000 - val_loss: 1.2630 - val_acc: 0.7630\n",
      "Epoch 17/30\n",
      " - 3s - loss: 0.0014 - acc: 1.0000 - val_loss: 1.2827 - val_acc: 0.7625\n",
      "Epoch 18/30\n",
      " - 3s - loss: 0.0012 - acc: 1.0000 - val_loss: 1.2989 - val_acc: 0.7620\n",
      "Epoch 19/30\n",
      " - 3s - loss: 9.9536e-04 - acc: 1.0000 - val_loss: 1.3121 - val_acc: 0.7655\n",
      "Epoch 20/30\n",
      " - 3s - loss: 8.6790e-04 - acc: 1.0000 - val_loss: 1.3338 - val_acc: 0.7645\n",
      "Epoch 21/30\n",
      " - 3s - loss: 7.5683e-04 - acc: 1.0000 - val_loss: 1.3487 - val_acc: 0.7615\n",
      "Epoch 22/30\n",
      " - 4s - loss: 6.7600e-04 - acc: 1.0000 - val_loss: 1.3630 - val_acc: 0.7635\n",
      "Epoch 23/30\n",
      " - 4s - loss: 5.9693e-04 - acc: 1.0000 - val_loss: 1.3775 - val_acc: 0.7635\n",
      "Epoch 24/30\n",
      " - 4s - loss: 5.3506e-04 - acc: 1.0000 - val_loss: 1.3993 - val_acc: 0.7630\n",
      "Epoch 25/30\n",
      " - 4s - loss: 4.7533e-04 - acc: 1.0000 - val_loss: 1.4159 - val_acc: 0.7620\n",
      "Epoch 26/30\n",
      " - 4s - loss: 4.3228e-04 - acc: 1.0000 - val_loss: 1.4228 - val_acc: 0.7605\n",
      "Epoch 27/30\n",
      " - 4s - loss: 3.9069e-04 - acc: 1.0000 - val_loss: 1.4281 - val_acc: 0.7625\n",
      "Epoch 28/30\n",
      " - 4s - loss: 3.5474e-04 - acc: 1.0000 - val_loss: 1.4491 - val_acc: 0.7625\n",
      "Epoch 29/30\n",
      " - 4s - loss: 3.2122e-04 - acc: 1.0000 - val_loss: 1.4537 - val_acc: 0.7645\n",
      "Epoch 30/30\n",
      " - 4s - loss: 2.9784e-04 - acc: 1.0000 - val_loss: 1.4720 - val_acc: 0.7615\n",
      "auc is : 0.9599424981059974\n"
     ]
    }
   ],
   "source": [
    "#开始训练\n",
    "history=model.fit(x= x_train,y = y_train,validation_data = (x_val,y_val),verbose = 2,\n",
    "          batch_size = 64,epochs = 30)\n",
    "#计算最后模型的auc值\n",
    "ypre_val = model.predict(x_val)\n",
    "print('auc is :',roc_auc_score(y_val,ypre_val))\n",
    "#导出预测文件\n",
    "#ypre_test = model.predict(x_test)\n",
    "#result = 1-ypre_test\n",
    "#build_test(result.reshape(-1,).tolist(),Lname.tolist(),'result_multi_hog2.csv')"
   ]
  },
  {
   "cell_type": "code",
   "execution_count": 10,
   "metadata": {},
   "outputs": [
    {
     "data": {
      "image/png": "[encoded data removed]",
      "text/plain": [
       "<Figure size 432x288 with 1 Axes>"
      ]
     },
     "metadata": {
      "needs_background": "light"
     },
     "output_type": "display_data"
    },
    {
     "data": {
      "image/png": "[encoded data removed]",
      "text/plain": [
       "<Figure size 432x288 with 1 Axes>"
      ]
     },
     "metadata": {
      "needs_background": "light"
     },
     "output_type": "display_data"
    }
   ],
   "source": [
    "import numpy as np # linear algebra\n",
    "import pandas as pd # data processing, CSV file I/O (e.g. pd.read_csv)\n",
    "import matplotlib\n",
    "matplotlib.use('Qt5Agg') \n",
    "from matplotlib import pyplot as plt\n",
    "%matplotlib inline\n",
    "\n",
    "def plot_training(history):\n",
    "    acc = history.history['acc']\n",
    "    val_acc = history.history['val_acc']\n",
    "    epochs = range(len(acc))\n",
    "    plt.plot(epochs, acc, 'b')\n",
    "    plt.plot(epochs, val_acc, 'r')\n",
    "    plt.legend([\"acc\", \"val_acc\"], loc='best')\n",
    "    plt.title('Training and validation accuracy')\n",
    "    plt.show()\n",
    "    loss = history.history['loss']\n",
    "    val_loss = history.history['val_loss']   \n",
    "    plt.plot(epochs, loss, 'b')\n",
    "    plt.plot(epochs, val_loss, 'r')\n",
    "    plt.legend([\"loss\", \"val_loss\"], loc='best')\n",
    "    plt.title('Training and validation loss')\n",
    "    plt.show()\n",
    "\n",
    "plot_training(history)"
   ]
  },
  {
   "cell_type": "code",
   "execution_count": null,
   "metadata": {},
   "outputs": [],
   "source": [
    " \n",
    "    "
   ]
  },
  {
   "cell_type": "code",
   "execution_count": null,
   "metadata": {},
   "outputs": [],
   "source": [
    "\n",
    "\n"
   ]
  }
 ],
 "metadata": {
  "kernelspec": {
   "display_name": "Python 3",
   "language": "python",
   "name": "python3"
  },
  "language_info": {
   "codemirror_mode": {
    "name": "ipython",
    "version": 3
   },
   "file_extension": ".py",
   "mimetype": "text/x-python",
   "name": "python",
   "nbconvert_exporter": "python",
   "pygments_lexer": "ipython3",
   "version": "3.7.1"
  }
 },
 "nbformat": 4,
 "nbformat_minor": 2
}
