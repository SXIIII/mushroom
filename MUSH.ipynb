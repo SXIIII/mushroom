{
 "cells": [
  {
   "cell_type": "code",
   "execution_count": 1,
   "metadata": {},
   "outputs": [
    {
     "name": "stderr",
     "output_type": "stream",
     "text": [
      "Using TensorFlow backend.\n"
     ]
    },
    {
     "name": "stdout",
     "output_type": "stream",
     "text": [
      "WARNING:tensorflow:From C:\\Anaconda\\lib\\site-packages\\tensorflow\\python\\framework\\op_def_library.py:263: colocate_with (from tensorflow.python.framework.ops) is deprecated and will be removed in a future version.\n",
      "Instructions for updating:\n",
      "Colocations handled automatically by placer.\n",
      "Found 164 images belonging to 9 classes.\n",
      "Found 72 images belonging to 9 classes.\n",
      "164/164 [==============================] - 87s 533ms/step\n",
      "72/72 [==============================] - 83s 1s/step\n",
      "Found 164 images belonging to 9 classes.\n",
      "Found 72 images belonging to 9 classes.\n",
      "164/164 [==============================] - 51s 311ms/step\n",
      "72/72 [==============================] - 41s 576ms/step\n",
      "Found 164 images belonging to 9 classes.\n",
      "Found 72 images belonging to 9 classes.\n",
      "164/164 [==============================] - 110s 673ms/step\n",
      "72/72 [==============================] - 85s 1s/step\n"
     ]
    }
   ],
   "source": [
    "import keras\n",
    "from keras.models import *\n",
    "from keras.layers import *\n",
    "from keras.applications import *\n",
    "from keras.preprocessing.image import *\n",
    "import h5py\n",
    "import warnings\n",
    "from keras.applications.inception_v3 import InceptionV3\n",
    "# from keras.applications.inception_resnet_v2 import InceptionResNetV2\n",
    "from keras.applications.xception import Xception\n",
    "# from keras.applications.vgg19 import VGG16\n",
    "import os\n",
    "os.environ['CUDA_VISIBLE_DEVICES'] = '/gpu:1'#解决在epoch1时出现的未知问题\n",
    "\n",
    "# warnings.filterwarnings('ignore')\n",
    "# VGG_wights='C:/mushroomdata/vgg16_weights_tf_dim_ordering_tf_kernels_notop.h5'\n",
    "Xception_wights='C:/mushroomdata/xception_weights_tf_dim_ordering_tf_kernels_notop.h5'\n",
    "InceptionV3_wights='C:/mushroomdata/inception_v3_weights_tf_dim_ordering_tf_kernels_notop.h5'\n",
    "inception_resnet_v2_weights='C:/mushroomdata/inception_resnet_v2_weights_tf_dim_ordering_tf_kernels_notop.h5'\n",
    "Num_classes=9\n",
    "\n",
    "def get_features(MODEL, width, height, lambda_func=None):\n",
    "    input_tensor = Input((height, width, 3))\n",
    "    x = input_tensor\n",
    "    #对数据进行归一化处理的函数\n",
    "    if lambda_func:\n",
    "        x = Lambda(lambda_func)(x)\n",
    "\n",
    "    if MODEL==InceptionResNetV2:\n",
    "        base_model = MODEL(input_tensor=x, weights=inception_resnet_v2_weights, include_top=False)\n",
    "    elif MODEL==Xception:\n",
    "        base_model = MODEL(input_tensor=x, weights=Xception_wights, include_top=False)\n",
    "    elif MODEL==InceptionV3:\n",
    "        base_model = MODEL(input_tensor=x, weights=InceptionV3_wights, include_top=False)\n",
    "    \n",
    "    model = Model(base_model.input, GlobalAveragePooling2D()(base_model.output))\n",
    "    #之后再使用 ImageDataGenerator可以进行图像数据增强处理\n",
    "    gen = ImageDataGenerator()\n",
    "    # 注意 train 和 test 是图片存储路径\n",
    "    # 注意 train 和 test 是图片存储路径\n",
    "    train_generator = gen.flow_from_directory(r'C:/mushroomdata/train1', (width, height), shuffle=False,\n",
    "                                              batch_size=1,class_mode = 'categorical',save_to_dir=r'C:/mushroomdata/train1',\n",
    "                                              save_prefix='trans_',save_format='jpg')\n",
    "    for i in range(1):\n",
    "        train_generator.next()\n",
    "    \n",
    "    test_generator = gen.flow_from_directory(r'C:/mushroomdata/test1', (width, height), shuffle=False,\n",
    "                                             batch_size=2,class_mode = 'categorical',save_to_dir=r'C:/mushroomdata/test1',\n",
    "                                             save_prefix='tes_',save_format='jpg')\n",
    "\n",
    "    for i in range(1):\n",
    "         test_generator.next()\n",
    "\n",
    "    #获取训练集和测试集的特征\n",
    "    train_generator.reset()\n",
    "    train = model.predict_generator(train_generator,train_generator.samples, verbose=1)\n",
    "    test_generator.reset()\n",
    "    test = model.predict_generator(test_generator,test_generator.samples, verbose=1)\n",
    "    if MODEL==InceptionResNetV2:\n",
    "        with h5py.File('data_InceptionResNetV2.h5','w' ) as h:\n",
    "            h.create_dataset(\"train\", data=train)\n",
    "            h.create_dataset(\"test\", data=test)\n",
    "            h.create_dataset(\"label\", data=train_generator.classes)\n",
    "    elif MODEL==Xception:\n",
    "        with h5py.File('data_Xception.h5','w' ) as h:\n",
    "            h.create_dataset(\"train\", data=train)\n",
    "            h.create_dataset(\"test\", data=test)\n",
    "            h.create_dataset(\"label\", data=train_generator.classes)\n",
    "    else: \n",
    "         with h5py.File('data_InceptionV3.h5','w' ) as h:\n",
    "            h.create_dataset(\"train\", data=train)\n",
    "            h.create_dataset(\"test\", data=test)\n",
    "            h.create_dataset(\"label\", data=train_generator.classes)\n",
    "\n",
    "get_features(Xception, 299, 299, xception.preprocess_input)\n",
    "get_features(InceptionV3, 299, 299, inception_v3.preprocess_input)\n",
    "get_features(InceptionResNetV2,299, 299,inception_resnet_v2.preprocess_input)"
   ]
  },
  {
   "cell_type": "code",
   "execution_count": 2,
   "metadata": {
    "scrolled": false
   },
   "outputs": [
    {
     "name": "stdout",
     "output_type": "stream",
     "text": [
      "(164, 2048)\n",
      "(144, 2048)\n",
      "(164,)\n",
      "(164, 2048)\n",
      "(144, 2048)\n",
      "(164,)\n",
      "(164, 1536)\n",
      "(144, 1536)\n",
      "(164,)\n",
      "(164, 5632)\n",
      "(144, 5632)\n",
      "(164,)\n"
     ]
    }
   ],
   "source": [
    "import h5py\n",
    "import numpy as np\n",
    "from sklearn.utils import shuffle\n",
    "from keras.models import *\n",
    "from keras.layers import *\n",
    "\n",
    "np.random.seed(10)\n",
    "X_train = []\n",
    "X_test = []\n",
    "\n",
    "for filename in [\"data_Xception.h5\", \"data_InceptionV3.h5\",\"data_InceptionResNetV2.h5\"]:#\"data_VGG16.h5\"\n",
    "    with h5py.File(filename, 'r') as h:\n",
    "        print(h['train'].shape)#\n",
    "        print(h['test'].shape)#\n",
    "        print(h['label'].shape)#\n",
    "        X_train.append(np.array(h['train']))\n",
    "        X_test.append(np.array(h['test']))\n",
    "        y_train = np.array(h['label'])\n",
    "\n",
    "X_train = np.concatenate(X_train, axis=1)#融合所有train特征\n",
    "X_test = np.concatenate(X_test, axis=1)#融合所有模型test特征\n",
    "print(X_train.shape)\n",
    "print(X_test.shape)\n",
    "print(y_train.shape)#特征lable值\n",
    "#shuffle将序列元素随机排布\n",
    "X_train, y_train = shuffle(X_train, y_train)\n"
   ]
  },
  {
   "cell_type": "code",
   "execution_count": 3,
   "metadata": {},
   "outputs": [
    {
     "name": "stdout",
     "output_type": "stream",
     "text": [
      "(?, 5632)\n",
      "WARNING:tensorflow:From C:\\Anaconda\\lib\\site-packages\\keras\\backend\\tensorflow_backend.py:3445: calling dropout (from tensorflow.python.ops.nn_ops) with keep_prob is deprecated and will be removed in a future version.\n",
      "Instructions for updating:\n",
      "Please use `rate` instead of `keep_prob`. Rate should be set to `rate = 1 - keep_prob`.\n",
      "_________________________________________________________________\n",
      "Layer (type)                 Output Shape              Param #   \n",
      "=================================================================\n",
      "input_4 (InputLayer)         (None, 5632)              0         \n",
      "_________________________________________________________________\n",
      "dropout_1 (Dropout)          (None, 5632)              0         \n",
      "_________________________________________________________________\n",
      "dense_1 (Dense)              (None, 256)               1442048   \n",
      "_________________________________________________________________\n",
      "dropout_2 (Dropout)          (None, 256)               0         \n",
      "_________________________________________________________________\n",
      "dense_2 (Dense)              (None, 128)               32896     \n",
      "_________________________________________________________________\n",
      "dropout_3 (Dropout)          (None, 128)               0         \n",
      "_________________________________________________________________\n",
      "dense_3 (Dense)              (None, 9)                 1161      \n",
      "=================================================================\n",
      "Total params: 1,476,105\n",
      "Trainable params: 1,476,105\n",
      "Non-trainable params: 0\n",
      "_________________________________________________________________\n",
      "WARNING:tensorflow:From C:\\Anaconda\\lib\\site-packages\\tensorflow\\python\\ops\\math_ops.py:3066: to_int32 (from tensorflow.python.ops.math_ops) is deprecated and will be removed in a future version.\n",
      "Instructions for updating:\n",
      "Use tf.cast instead.\n"
     ]
    },
    {
     "name": "stderr",
     "output_type": "stream",
     "text": [
      "C:\\Anaconda\\lib\\site-packages\\ipykernel_launcher.py:17: UserWarning: The `nb_epoch` argument in `fit` has been renamed `epochs`.\n"
     ]
    },
    {
     "name": "stdout",
     "output_type": "stream",
     "text": [
      "Train on 131 samples, validate on 33 samples\n",
      "Epoch 1/2\n",
      "131/131 [==============================] - 6s 45ms/step - loss: 2.9925 - acc: 0.1450 - val_loss: 2.2225 - val_acc: 0.1818\n",
      "Epoch 2/2\n",
      "131/131 [==============================] - 1s 8ms/step - loss: 2.2362 - acc: 0.2214 - val_loss: 2.0391 - val_acc: 0.2424\n",
      "144/144 [==============================] - 2s 11ms/step\n"
     ]
    }
   ],
   "source": [
    "input_tensor = Input(X_train.shape[1:])\n",
    "print(input_tensor.shape)\n",
    "x = Dropout(0.5)(input_tensor)\n",
    "x=  Dense(256, activation='relu')(x)\n",
    "x = Dropout(0.5)(x)\n",
    "x=  Dense(128, activation='relu')(x)\n",
    "x = Dropout(0.5)(x)\n",
    "x = Dense(9, activation='softmax')(x)\n",
    "model = Model(input_tensor, x)\n",
    "\n",
    "model.summary()\n",
    "y_train = keras.utils.to_categorical(y_train, Num_classes)\n",
    "model.compile(optimizer='adadelta',\n",
    "              loss = 'categorical_crossentropy',\n",
    "              metrics=['accuracy'])\n",
    "\n",
    "history = model.fit(X_train, y_train, batch_size=4,nb_epoch=2, validation_split=0.2)\n",
    "y_pred = model.predict(X_test, verbose=1)\n",
    "y_pred = y_pred.clip(min=0.005, max=0.995)"
   ]
  },
  {
   "cell_type": "code",
   "execution_count": 4,
   "metadata": {},
   "outputs": [
    {
     "data": {
      "image/png": "[encoded data removed]",
      "text/plain": [
       "<Figure size 432x288 with 1 Axes>"
      ]
     },
     "metadata": {
      "needs_background": "light"
     },
     "output_type": "display_data"
    },
    {
     "data": {
      "image/png": "[encoded data removed]",
      "text/plain": [
       "<Figure size 432x288 with 1 Axes>"
      ]
     },
     "metadata": {
      "needs_background": "light"
     },
     "output_type": "display_data"
    }
   ],
   "source": [
    "import numpy as np # linear algebra\n",
    "import pandas as pd # data processing, CSV file I/O (e.g. pd.read_csv)\n",
    "import matplotlib\n",
    "matplotlib.use('Qt5Agg') \n",
    "from matplotlib import pyplot as plt\n",
    "%matplotlib inline\n",
    "\n",
    "def plot_training(history):\n",
    "    acc = history.history['acc']\n",
    "    val_acc = history.history['val_acc']\n",
    "    epochs = range(len(acc))\n",
    "    plt.plot(epochs, acc, 'b')\n",
    "    plt.plot(epochs, val_acc, 'r')\n",
    "    plt.legend([\"acc\", \"val_acc\"], loc='best')\n",
    "    plt.title('Training and validation accuracy')\n",
    "    plt.show()\n",
    "    loss = history.history['loss']\n",
    "    val_loss = history.history['val_loss']   \n",
    "    plt.plot(epochs, loss, 'b')\n",
    "    plt.plot(epochs, val_loss, 'r')\n",
    "    plt.legend([\"loss\", \"val_loss\"], loc='best')\n",
    "    plt.title('Training and validation loss')\n",
    "    plt.show()\n",
    "\n",
    "plot_training(history)"
   ]
  },
  {
   "cell_type": "code",
   "execution_count": 5,
   "metadata": {},
   "outputs": [],
   "source": [
    "from keras.models import load_model\n",
    "\n",
    "# model.load_weights('best_mushroom2.hdf5')\n",
    "model.save('model_mushroom2_weight.h5')"
   ]
  },
  {
   "cell_type": "code",
   "execution_count": null,
   "metadata": {},
   "outputs": [],
   "source": []
  }
 ],
 "metadata": {
  "kernelspec": {
   "display_name": "Python 3",
   "language": "python",
   "name": "python3"
  },
  "language_info": {
   "codemirror_mode": {
    "name": "ipython",
    "version": 3
   },
   "file_extension": ".py",
   "mimetype": "text/x-python",
   "name": "python",
   "nbconvert_exporter": "python",
   "pygments_lexer": "ipython3",
   "version": "3.7.1"
  },
  "widgets": {
   "application/vnd.jupyter.widget-state+json": {
    "state": {},
    "version_major": 2,
    "version_minor": 0
   }
  }
 },
 "nbformat": 4,
 "nbformat_minor": 2
}
