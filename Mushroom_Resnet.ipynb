{
 "cells": [
  {
   "cell_type": "code",
   "execution_count": 1,
   "metadata": {
    "scrolled": true
   },
   "outputs": [
    {
     "name": "stdout",
     "output_type": "stream",
     "text": [
      "['Hygrocybe', 'Boletus', 'Amanita', 'Cortinarius', 'Entoloma', 'Agaricus', 'Suillus', 'Lactarius', 'Russula']\n"
     ]
    }
   ],
   "source": [
    "# This Python 3 environment comes with many helpful analytics libraries installed\n",
    "# It is defined by the kaggle/python docker image: https://github.com/kaggle/docker-python\n",
    "# For example, here's several helpful packages to load in \n",
    "import os\n",
    "os.environ[\"CUDA_VISIBLE_DEVICES\"] = \"2\"\n",
    "\n",
    "import numpy as np # linear algebra\n",
    "import pandas as pd # data processing, CSV file I/O (e.g. pd.read_csv)\n",
    "\n",
    "# Input data files are available in the \"../input/\" directory.\n",
    "# For example, running this (by clicking run or pressing Shift+Enter) will list the files in the input directory\n",
    "\n",
    "import os\n",
    "print(os.listdir(\"./mushroomDataSet/Mushrooms\"))\n",
    "\n",
    "# Any results you write to the current directory are saved as output."
   ]
  },
  {
   "cell_type": "code",
   "execution_count": 2,
   "metadata": {},
   "outputs": [],
   "source": [
    "import matplotlib.pyplot as plt\n",
    "%reload_ext autoreload\n",
    "%autoreload 2\n",
    "%matplotlib inline"
   ]
  },
  {
   "cell_type": "code",
   "execution_count": 3,
   "metadata": {},
   "outputs": [],
   "source": [
    "NUM_CLASSES = 9\n",
    "\n",
    "CHANNELS = 3\n",
    "\n",
    "IMAGE_RESIZE = 224\n",
    "RESNET50_POOLING_AVERAGE = 'avg'\n",
    "DENSE_LAYER_ACTIVATION = 'softmax'\n",
    "OBJECTIVE_FUNCTION = 'categorical_crossentropy'\n",
    "\n",
    "# Common accuracy metric for all outputs, but can use different metrics for different output\n",
    "LOSS_METRICS = ['accuracy']\n",
    "\n",
    "# EARLY_STOP_PATIENCE must be < NUM_EPOCHS\n",
    "NUM_EPOCHS = 50\n",
    "EARLY_STOP_PATIENCE = 10\n",
    "\n",
    "# These steps value should be proper FACTOR of no.-of-images in train & valid folders respectively\n",
    "# Training images processed in each step would be no.-of-train-images / STEPS_PER_EPOCH_TRAINING\n",
    "STEPS_PER_EPOCH_TRAINING = 16\n",
    "STEPS_PER_EPOCH_VALIDATION = 16\n",
    "\n",
    "# These steps value should be proper FACTOR of no.-of-images in train & valid folders respectively\n",
    "# NOTE that these BATCH* are for Keras ImageDataGenerator batching to fill epoch step input\n",
    "BATCH_SIZE_TRAINING = 100\n",
    "BATCH_SIZE_VALIDATION = 50\n",
    "\n",
    "# Using 1 to easily manage mapping between test_generator & prediction for submission preparation\n",
    "BATCH_SIZE_TESTING = 1"
   ]
  },
  {
   "cell_type": "code",
   "execution_count": 4,
   "metadata": {},
   "outputs": [],
   "source": [
    "from tensorflow.python.keras.applications import ResNet50\n",
    "from tensorflow.python.keras.models import Sequential\n",
    "from tensorflow.python.keras.layers import Dense, BatchNormalization, Dropout"
   ]
  },
  {
   "cell_type": "code",
   "execution_count": 5,
   "metadata": {},
   "outputs": [],
   "source": [
    "resnet_weights_path = './resnet50_weights_tf_dim_ordering_tf_kernels_notop.h5'"
   ]
  },
  {
   "cell_type": "code",
   "execution_count": 6,
   "metadata": {},
   "outputs": [
    {
     "name": "stdout",
     "output_type": "stream",
     "text": [
      "WARNING:tensorflow:From /usr/local/lib/python3.5/dist-packages/tensorflow/python/ops/resource_variable_ops.py:435: colocate_with (from tensorflow.python.framework.ops) is deprecated and will be removed in a future version.\n",
      "Instructions for updating:\n",
      "Colocations handled automatically by placer.\n"
     ]
    }
   ],
   "source": [
    "model = Sequential()\n",
    "\n",
    "# 1st layer as the lumpsum weights from resnet50_weights_tf_dim_ordering_tf_kernels_notop.h5\n",
    "# NOTE that this layer will be set below as NOT TRAINABLE, i.e., use it as is\n",
    "model.add(gl(include_top = False, pooling = RESNET50_POOLING_AVERAGE, weights = resnet_weights_path))\n",
    "\n",
    "model.add(BatchNormalization())\n",
    "model.add(Dense(256, activation='relu'))\n",
    "model.add(BatchNormalization())\n",
    "model.add(Dense(128, activation='relu'))\n",
    "model.add(BatchNormalization())\n",
    "model.add(Dense(NUM_CLASSES, activation = DENSE_LAYER_ACTIVATION))\n",
    "\n",
    "# Say not to train first layer (ResNet) model as it is already trained\n",
    "model.layers[0].trainable = False"
   ]
  },
  {
   "cell_type": "code",
   "execution_count": 7,
   "metadata": {},
   "outputs": [
    {
     "name": "stdout",
     "output_type": "stream",
     "text": [
      "_________________________________________________________________\n",
      "Layer (type)                 Output Shape              Param #   \n",
      "=================================================================\n",
      "resnet50 (Model)             (None, 2048)              23587712  \n",
      "_________________________________________________________________\n",
      "batch_normalization_v1 (Batc (None, 2048)              8192      \n",
      "_________________________________________________________________\n",
      "dense (Dense)                (None, 256)               524544    \n",
      "_________________________________________________________________\n",
      "batch_normalization_v1_1 (Ba (None, 256)               1024      \n",
      "_________________________________________________________________\n",
      "dense_1 (Dense)              (None, 128)               32896     \n",
      "_________________________________________________________________\n",
      "batch_normalization_v1_2 (Ba (None, 128)               512       \n",
      "_________________________________________________________________\n",
      "dense_2 (Dense)              (None, 9)                 1161      \n",
      "=================================================================\n",
      "Total params: 24,156,041\n",
      "Trainable params: 563,465\n",
      "Non-trainable params: 23,592,576\n",
      "_________________________________________________________________\n"
     ]
    }
   ],
   "source": [
    "model.summary()"
   ]
  },
  {
   "cell_type": "code",
   "execution_count": 8,
   "metadata": {},
   "outputs": [],
   "source": [
    "from tensorflow.python.keras import optimizers\n",
    "\n",
    "sgd = optimizers.Adam(lr=0.001, beta_1=0.9, beta_2=0.999)\n",
    "model.compile(optimizer = sgd, loss = OBJECTIVE_FUNCTION, metrics = LOSS_METRICS)"
   ]
  },
  {
   "cell_type": "code",
   "execution_count": 9,
   "metadata": {},
   "outputs": [],
   "source": [
    "# Early stopping & checkpointing the best model in ../working dir & restoring that as our model for prediction\n",
    "from tensorflow.python.keras.callbacks import EarlyStopping, ModelCheckpoint,ReduceLROnPlateau\n",
    "reduce_lr = ReduceLROnPlateau(monitor='val_loss', factor=0.5, patience=5, mode='auto')\n",
    "cb_early_stopper = EarlyStopping(monitor = 'val_loss', patience = EARLY_STOP_PATIENCE)\n",
    "cb_checkpointer = ModelCheckpoint(filepath = './best.hdf5', monitor = 'val_loss', save_best_only = True, mode = 'auto')"
   ]
  },
  {
   "cell_type": "code",
   "execution_count": 10,
   "metadata": {},
   "outputs": [
    {
     "name": "stderr",
     "output_type": "stream",
     "text": [
      "Using TensorFlow backend.\n"
     ]
    },
    {
     "name": "stdout",
     "output_type": "stream",
     "text": [
      "Found 4031 images belonging to 9 classes.\n",
      "Found 1344 images belonging to 9 classes.\n",
      "Found 1339 images belonging to 9 classes.\n"
     ]
    }
   ],
   "source": [
    "from keras.applications.resnet50 import preprocess_input\n",
    "from keras.preprocessing.image import ImageDataGenerator\n",
    "\n",
    "image_size = IMAGE_RESIZE\n",
    "\n",
    "# preprocessing_function is applied on each image but only after re-sizing & augmentation (resize => augment => pre-process)\n",
    "# Each of the keras.application.resnet* preprocess_input MOSTLY mean BATCH NORMALIZATION (applied on each batch) stabilize the inputs to nonlinear activation functions\n",
    "# Batch Normalization helps in faster convergence\n",
    "#data_generator = ImageDataGenerator(preprocessing_function=preprocess_input, validation_split=0.2)\n",
    "data_generator = ImageDataGenerator(preprocessing_function=preprocess_input)\n",
    "# flow_From_directory generates batches of augmented data (where augmentation can be color conversion, etc)\n",
    "# Both train & valid folders must have NUM_CLASSES sub-folders\n",
    "train_generator = data_generator.flow_from_directory(\n",
    "        './mush-now/train',\n",
    "        target_size=(image_size, image_size),\n",
    "        batch_size=BATCH_SIZE_TRAINING,\n",
    "        class_mode='categorical')\n",
    "        \n",
    "\n",
    "validation_generator = data_generator.flow_from_directory(\n",
    "    './mush-now/val',\n",
    "    target_size=(image_size, image_size),\n",
    "    batch_size=BATCH_SIZE_VALIDATION,\n",
    "    class_mode='categorical') \n",
    "test_generator = data_generator.flow_from_directory(\n",
    "    './mush-now/test',\n",
    "    target_size=(image_size, image_size),\n",
    "    batch_size=BATCH_SIZE_VALIDATION,\n",
    "    class_mode='categorical') \n"
   ]
  },
  {
   "cell_type": "code",
   "execution_count": 11,
   "metadata": {},
   "outputs": [],
   "source": [
    "from PIL import ImageFile\n",
    "ImageFile.LOAD_TRUNCATED_IMAGES = True\n"
   ]
  },
  {
   "cell_type": "code",
   "execution_count": 12,
   "metadata": {},
   "outputs": [
    {
     "name": "stdout",
     "output_type": "stream",
     "text": [
      "WARNING:tensorflow:From /usr/local/lib/python3.5/dist-packages/tensorflow/python/ops/math_ops.py:3066: to_int32 (from tensorflow.python.ops.math_ops) is deprecated and will be removed in a future version.\n",
      "Instructions for updating:\n",
      "Use tf.cast instead.\n",
      "Epoch 1/20\n",
      "27/27 [==============================] - 35s 1s/step - loss: 1.3726 - acc: 0.5365\n",
      "41/41 [==============================] - 142s 3s/step - loss: 1.3624 - acc: 0.5654 - val_loss: 1.3726 - val_acc: 0.5365\n",
      "Epoch 2/20\n",
      "27/27 [==============================] - 25s 909ms/step - loss: 0.9832 - acc: 0.6704\n",
      "41/41 [==============================] - 79s 2s/step - loss: 0.4671 - acc: 0.8636 - val_loss: 0.9832 - val_acc: 0.6704\n",
      "Epoch 3/20\n",
      "27/27 [==============================] - 24s 907ms/step - loss: 0.9024 - acc: 0.6942\n",
      "41/41 [==============================] - 79s 2s/step - loss: 0.2249 - acc: 0.9558 - val_loss: 0.9024 - val_acc: 0.6942\n",
      "Epoch 4/20\n",
      "27/27 [==============================] - 25s 908ms/step - loss: 0.8763 - acc: 0.7210\n",
      "41/41 [==============================] - 79s 2s/step - loss: 0.1131 - acc: 0.9834 - val_loss: 0.8763 - val_acc: 0.7210\n",
      "Epoch 5/20\n",
      "27/27 [==============================] - 25s 909ms/step - loss: 0.8535 - acc: 0.7188\n",
      "41/41 [==============================] - 79s 2s/step - loss: 0.0658 - acc: 0.9938 - val_loss: 0.8535 - val_acc: 0.7188\n",
      "Epoch 6/20\n",
      "27/27 [==============================] - 24s 906ms/step - loss: 0.8843 - acc: 0.7188\n",
      "41/41 [==============================] - 80s 2s/step - loss: 0.0460 - acc: 0.9960 - val_loss: 0.8843 - val_acc: 0.7188\n",
      "Epoch 7/20\n",
      "27/27 [==============================] - 24s 901ms/step - loss: 0.9221 - acc: 0.7217\n",
      "41/41 [==============================] - 79s 2s/step - loss: 0.0312 - acc: 0.9973 - val_loss: 0.9221 - val_acc: 0.7217\n",
      "Epoch 8/20\n",
      "27/27 [==============================] - 25s 910ms/step - loss: 0.9593 - acc: 0.7188\n",
      "41/41 [==============================] - 80s 2s/step - loss: 0.0270 - acc: 0.9970 - val_loss: 0.9593 - val_acc: 0.7188\n",
      "Epoch 9/20\n",
      "27/27 [==============================] - 25s 908ms/step - loss: 0.9666 - acc: 0.7165\n",
      "41/41 [==============================] - 79s 2s/step - loss: 0.0199 - acc: 0.9973 - val_loss: 0.9666 - val_acc: 0.7165\n",
      "Epoch 10/20\n",
      "27/27 [==============================] - 24s 896ms/step - loss: 1.0616 - acc: 0.7135\n",
      "41/41 [==============================] - 79s 2s/step - loss: 0.0322 - acc: 0.9936 - val_loss: 1.0616 - val_acc: 0.7135\n",
      "Epoch 11/20\n",
      "27/27 [==============================] - 24s 903ms/step - loss: 1.0580 - acc: 0.7039\n",
      "41/41 [==============================] - 79s 2s/step - loss: 0.0245 - acc: 0.9968 - val_loss: 1.0580 - val_acc: 0.7039\n",
      "Epoch 12/20\n",
      "27/27 [==============================] - 24s 906ms/step - loss: 1.0480 - acc: 0.7202\n",
      "41/41 [==============================] - 80s 2s/step - loss: 0.0143 - acc: 0.9993 - val_loss: 1.0480 - val_acc: 0.7202\n",
      "Epoch 13/20\n",
      "27/27 [==============================] - 24s 906ms/step - loss: 1.0372 - acc: 0.7143\n",
      "41/41 [==============================] - 80s 2s/step - loss: 0.0124 - acc: 0.9990 - val_loss: 1.0372 - val_acc: 0.7143\n",
      "Epoch 14/20\n",
      "27/27 [==============================] - 25s 913ms/step - loss: 1.0431 - acc: 0.7277\n",
      "41/41 [==============================] - 80s 2s/step - loss: 0.0077 - acc: 0.9998 - val_loss: 1.0431 - val_acc: 0.7277\n",
      "Epoch 15/20\n",
      "27/27 [==============================] - 24s 900ms/step - loss: 1.0484 - acc: 0.7225\n",
      "41/41 [==============================] - 80s 2s/step - loss: 0.0062 - acc: 1.0000 - val_loss: 1.0484 - val_acc: 0.7225\n"
     ]
    }
   ],
   "source": [
    "fit_history = model.fit_generator(\n",
    "        train_generator,\n",
    "        steps_per_epoch=STEPS_PER_EPOCH_TRAINING,\n",
    "        epochs = 20,\n",
    "        validation_data = validation_generator, \n",
    "        callbacks=[cb_checkpointer,cb_early_stopper,reduce_lr]\n",
    ")"
   ]
  },
  {
   "cell_type": "code",
   "execution_count": null,
   "metadata": {},
   "outputs": [
    {
     "name": "stdout",
     "output_type": "stream",
     "text": [
      "18/27 [===================>..........] - ETA: 8s - loss: 0.9737 - acc: 0.7211"
     ]
    }
   ],
   "source": [
    "tes_history = model.evaluate_generator(\n",
    "        test_generator,\n",
    "    verbose=1,\n",
    ")"
   ]
  },
  {
   "cell_type": "code",
   "execution_count": 13,
   "metadata": {},
   "outputs": [],
   "source": [
    "model.load_weights(\"./best.hdf5\")"
   ]
  },
  {
   "cell_type": "code",
   "execution_count": null,
   "metadata": {},
   "outputs": [],
   "source": []
  },
  {
   "cell_type": "code",
   "execution_count": 14,
   "metadata": {},
   "outputs": [
    {
     "name": "stdout",
     "output_type": "stream",
     "text": [
      "dict_keys(['val_loss', 'loss', 'lr', 'val_acc', 'acc'])\n"
     ]
    }
   ],
   "source": [
    "print(fit_history.history.keys())"
   ]
  },
  {
   "cell_type": "code",
   "execution_count": 15,
   "metadata": {},
   "outputs": [
    {
     "data": {
      "image/png": "[encoded data removed]",
      "text/plain": [
       "<Figure size 1080x576 with 2 Axes>"
      ]
     },
     "metadata": {
      "needs_background": "light"
     },
     "output_type": "display_data"
    }
   ],
   "source": [
    "plt.figure(1, figsize = (15,8)) \n",
    "    \n",
    "plt.subplot(221)  \n",
    "plt.plot(fit_history.history['acc'])  \n",
    "plt.plot(fit_history.history['val_acc'])\n",
    "plt.title('model accuracy')  \n",
    "plt.ylabel('accuracy')  \n",
    "plt.xlabel('epoch')  \n",
    "plt.legend(['train', 'valid']) \n",
    "    \n",
    "plt.subplot(222)  \n",
    "plt.plot(fit_history.history['loss'])  \n",
    "plt.plot(fit_history.history['val_loss'])  \n",
    "plt.title('model loss')  \n",
    "plt.ylabel('loss')  \n",
    "plt.xlabel('epoch')  \n",
    "plt.legend(['train', 'valid']) \n",
    "\n",
    "plt.show()"
   ]
  },
  {
   "cell_type": "code",
   "execution_count": 16,
   "metadata": {},
   "outputs": [
    {
     "data": {
      "image/png": "[encoded data removed]",
      "text/plain": [
       "<Figure size 432x288 with 1 Axes>"
      ]
     },
     "metadata": {
      "needs_background": "light"
     },
     "output_type": "display_data"
    }
   ],
   "source": [
    "plt.plot(fit_history.history['lr'])  \n",
    "plt.title('model lr')  \n",
    "plt.ylabel('lr')  \n",
    "plt.xlabel('epoch')  \n",
    "plt.legend(['lr']) \n",
    "plt.show()"
   ]
  },
  {
   "cell_type": "code",
   "execution_count": 17,
   "metadata": {},
   "outputs": [],
   "source": [
    "model.load_weights('./best.hdf5')"
   ]
  },
  {
   "cell_type": "code",
   "execution_count": 18,
   "metadata": {},
   "outputs": [],
   "source": [
    "model.save('./best_model.h5',include_optimizer=True)"
   ]
  }
 ],
 "metadata": {
  "kernelspec": {
   "display_name": "Python 3",
   "language": "python",
   "name": "python3"
  },
  "language_info": {
   "codemirror_mode": {
    "name": "ipython",
    "version": 3
   },
   "file_extension": ".py",
   "mimetype": "text/x-python",
   "name": "python",
   "nbconvert_exporter": "python",
   "pygments_lexer": "ipython3",
   "version": "3.5.2"
  },
  "latex_envs": {
   "LaTeX_envs_menu_present": true,
   "autoclose": false,
   "autocomplete": true,
   "bibliofile": "biblio.bib",
   "cite_by": "apalike",
   "current_citInitial": 1,
   "eqLabelWithNumbers": true,
   "eqNumInitial": 1,
   "hotkeys": {
    "equation": "Ctrl-E",
    "itemize": "Ctrl-I"
   },
   "labels_anchors": false,
   "latex_user_defs": false,
   "report_style_numbering": false,
   "user_envs_cfg": false
  }
 },
 "nbformat": 4,
 "nbformat_minor": 2
}
