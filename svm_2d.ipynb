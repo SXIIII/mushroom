{
 "cells": [
  {
   "cell_type": "code",
   "execution_count": null,
   "metadata": {},
   "outputs": [],
   "source": [
    "import os\n",
    "import numpy as np\n",
    "from keras.applications import Xception\n",
    "from keras.preprocessing import image\n",
    "from keras.applications.xception import preprocess_input, decode_predictions\n",
    "from keras.models import Model\n",
    "from keras.layers import Dense, GlobalAveragePooling2D, Dropout\n",
    "from keras.utils.np_utils import to_categorical\n",
    "from sklearn.model_selection import train_test_split\n",
    "from sklearn.decomposition import PCA\n",
    "from sklearn.manifold import TSNE\n",
    "from sklearn.svm import SVC\n",
    "from sklearn.metrics import accuracy_score\n",
    "from sklearn.metrics import classification_report, confusion_matrix\n",
    "from matplotlib import pyplot as plt\n",
    "from mpl_toolkits.mplot3d import Axes3D"
   ]
  },
  {
   "cell_type": "code",
   "execution_count": null,
   "metadata": {},
   "outputs": [],
   "source": [
    "g_dir = './mushroom/valAndTrain/train'"
   ]
  },
  {
   "cell_type": "code",
   "execution_count": null,
   "metadata": {},
   "outputs": [],
   "source": [
    "def loadImages(data_dir):\n",
    "   \n",
    "    data = {}\n",
    "    for c in ['Agaricus', 'Amanita', 'Boletus', 'Cortinarius', 'Entoloma', 'Hygrocybe', 'Lactarius', 'Russula', 'Suillus']:\n",
    "        data[c] = []\n",
    "        if c == 'Agaricus':\n",
    "            label = 0\n",
    "        elif c == 'Amanita':\n",
    "            label = 1\n",
    "        elif c == 'Boletus':\n",
    "            label = 2\n",
    "        elif c == 'Cortinarius':\n",
    "            label = 3\n",
    "        elif c == 'Entoloma':\n",
    "            label = 4\n",
    "        elif c == 'Hygrocybe':\n",
    "            label = 5\n",
    "        elif c == 'Lactarius':\n",
    "            label = 6\n",
    "        elif c == 'Russula':\n",
    "            label = 7\n",
    "        elif c == 'Suillus':\n",
    "            label = 8\n",
    "\n",
    "        files = os.listdir(data_dir + '/' + c)\n",
    "        files = files[0:1200] # Maximum number objects for each class\n",
    "\n",
    "#         print(\"A sample object from {} class:\".format(c))\n",
    "#         plt.imshow(image.load_img(data_dir + '/' + c + '/' + files[4], target_size=(224, 224)))\n",
    "#         plt.show()\n",
    "\n",
    "        for f_name in files:\n",
    "            img_path = data_dir + '/' + c + '/' + f_name\n",
    "            img = image.load_img(img_path, target_size=(224, 224))\n",
    "            x = image.img_to_array(img)\n",
    "            x = np.expand_dims(x, axis=0)\n",
    "            x = preprocess_input(x)\n",
    "            data[c].append([x, label])\n",
    "#         print(data[c])\n",
    "   \n",
    "    return data"
   ]
  },
  {
   "cell_type": "code",
   "execution_count": null,
   "metadata": {},
   "outputs": [],
   "source": [
    "data = loadImages(g_dir)\n",
    "# print(data)"
   ]
  },
  {
   "cell_type": "code",
   "execution_count": null,
   "metadata": {},
   "outputs": [],
   "source": [
    "train_classObj1, test_classObj1 = train_test_split(data['Agaricus'], test_size = 0.2)\n",
    "train_classObj2, test_classObj2 = train_test_split(data['Amanita'], test_size = 0.2)\n",
    "train_classObj3, test_classObj3 = train_test_split(data['Boletus'], test_size = 0.2)\n",
    "train_classObj4, test_classObj4 = train_test_split(data['Cortinarius'], test_size = 0.2)\n",
    "train_classObj5, test_classObj5 = train_test_split(data['Entoloma'], test_size = 0.2)\n",
    "train_classObj6, test_classObj6 = train_test_split(data['Hygrocybe'], test_size = 0.2)\n",
    "train_classObj7, test_classObj7 = train_test_split(data['Lactarius'], test_size = 0.2)\n",
    "train_classObj8, test_classObj8 = train_test_split(data['Russula'], test_size = 0.2)\n",
    "train_classObj9, test_classObj9 = train_test_split(data['Suillus'], test_size = 0.2)\n",
    "\n",
    "print(\"The number of TRAIN objects in each class: \", len(train_classObj1))\n",
    "print(\"The number of TEST objects in each class: \", len(test_classObj1))\n",
    "\n",
    "train_objs = train_classObj1 + train_classObj2 + train_classObj3+train_classObj4 + train_classObj5 + train_classObj6+train_classObj7+ train_classObj8 + train_classObj9\n",
    "test_objs = test_classObj1 + test_classObj2 + test_classObj3+test_classObj4 + test_classObj5 + test_classObj6+test_classObj7 + test_classObj8 + test_classObj9"
   ]
  },
  {
   "cell_type": "code",
   "execution_count": null,
   "metadata": {},
   "outputs": [],
   "source": [
    "train_data = [x[0] for x in train_objs]\n",
    "train_label = [y[1] for y in train_objs]\n",
    "\n",
    "test_data = [x[0] for x in test_objs]\n",
    "test_label = [y[1] for y in test_objs]"
   ]
  },
  {
   "cell_type": "code",
   "execution_count": null,
   "metadata": {},
   "outputs": [],
   "source": [
    "X_train = np.array(train_data)\n",
    "X_test = np.array(test_data)"
   ]
  },
  {
   "cell_type": "code",
   "execution_count": null,
   "metadata": {},
   "outputs": [],
   "source": [
    "train_data = np.squeeze(X_train)\n",
    "train_label = np.array(train_label)"
   ]
  },
  {
   "cell_type": "code",
   "execution_count": null,
   "metadata": {},
   "outputs": [],
   "source": [
    "test_data = np.squeeze(X_test)\n",
    "test_label = np.array(test_label)"
   ]
  },
  {
   "cell_type": "code",
   "execution_count": null,
   "metadata": {},
   "outputs": [],
   "source": [
    "print(\"Input dimension: \", train_data.shape)"
   ]
  },
  {
   "cell_type": "code",
   "execution_count": null,
   "metadata": {},
   "outputs": [],
   "source": [
    "base_model = Xception(weights='imagenet', include_top=False)"
   ]
  },
  {
   "cell_type": "code",
   "execution_count": null,
   "metadata": {},
   "outputs": [],
   "source": [
    "training_feature = [base_model.predict(x).flatten() for x in X_train]\n",
    "test_feature = [base_model.predict(x).flatten() for x in X_test]\n",
    "\n",
    "training_feature = np.array(training_feature)\n",
    "test_feature = np.array(test_feature)"
   ]
  },
  {
   "cell_type": "code",
   "execution_count": null,
   "metadata": {},
   "outputs": [],
   "source": [
    "print(\"Training feature dimension: \", training_feature.shape)\n",
    "print(\"Test feature dimension: \", test_feature.shape)"
   ]
  },
  {
   "cell_type": "code",
   "execution_count": null,
   "metadata": {},
   "outputs": [],
   "source": [
    "# PCA\n",
    "pca = PCA(n_components=2)\n",
    "training_feature_pca_2D = pca.fit_transform(training_feature)\n",
    "test_feature_pca_2D = pca.transform(test_feature)"
   ]
  },
  {
   "cell_type": "code",
   "execution_count": null,
   "metadata": {},
   "outputs": [],
   "source": [
    "pca = PCA(n_components=3)\n",
    "training_feature_pca_3D = pca.fit_transform(training_feature)\n",
    "test_feature_pca_3D = pca.transform(test_feature)"
   ]
  },
  {
   "cell_type": "code",
   "execution_count": null,
   "metadata": {},
   "outputs": [],
   "source": [
    "#pca 2d\n",
    "fig = plt.figure(figsize=(10, 7))\n",
    "ax = fig.add_subplot(1, 1, 1)\n",
    "colors = ['r', 'g', 'b','r', 'g', 'c','r', 'g', 'b']\n",
    "markers = ['o', 'P', 'v','o', 'P', 'v','o', 'P', 'v']\n",
    "classes = np.sort(np.unique(train_label))\n",
    "labels = ['Agaricus', 'Amanita', 'Boletus', 'Cortinarius', 'Entoloma', 'Hygrocybe', 'Lactarius', 'Russula', 'Suillus']\n",
    "for class_ix, marker, color, label in zip(classes, markers, colors, labels):\n",
    "     ax.scatter(training_feature_pca_2D[np.where(train_label == class_ix), 0],\n",
    "             training_feature_pca_2D[np.where(train_label == class_ix), 1],\n",
    "             marker=marker, color=color,\n",
    "             linewidth='1', alpha=0.9, label=label)  \n",
    "#          ax.legend(loc='best')\n",
    "plt.xlabel('First principal component')\n",
    "plt.ylabel('Second Principal Component')\n",
    "plt.title(\"2 component PCA\")\n",
    "plt.show()"
   ]
  },
  {
   "cell_type": "code",
   "execution_count": null,
   "metadata": {},
   "outputs": [],
   "source": [
    "#pca 3d\n",
    "fig = plt.figure(figsize=(10, 7))\n",
    "ax = fig.add_subplot(111, projection='3d')\n",
    "colors = ['r', 'g', 'b','r', 'g', 'b','r', 'g', 'b']\n",
    "markers = ['o', 'P', 'v','o', 'P', 'v','o', 'P', 'v']\n",
    "classes = np.sort(np.unique(train_label))\n",
    "labels = ['Agaricus', 'Amanita', 'Boletus', 'Cortinarius', 'Entoloma', 'Hygrocybe', 'Lactarius', 'Russula', 'Suillus']\n",
    "\n",
    "ax.scatter(training_feature_pca_3D[:, 0],\n",
    "             training_feature_pca_3D[:, 1],\n",
    "             training_feature_pca_3D[:, 2],\n",
    "             c=train_label)\n",
    "\n",
    "ax.set_xlabel('First component PCA')\n",
    "ax.set_ylabel('Second component PCA')\n",
    "ax.set_zlabel('Third component PCA')\n",
    "plt.title(\"3 component PCA\")\n",
    "plt.show()"
   ]
  },
  {
   "cell_type": "code",
   "execution_count": null,
   "metadata": {},
   "outputs": [],
   "source": [
    "model = SVC(kernel ='rbf', gamma='scale', C = 1)"
   ]
  },
  {
   "cell_type": "code",
   "execution_count": null,
   "metadata": {},
   "outputs": [],
   "source": [
    "# 2D Training\n",
    "from numpy import array\n",
    "# print（map(list, zip(*training_feature_pca_2D))）\n",
    "print(array(training_feature_pca_2D))\n",
    "# print(training_feature_pca_2D.tolist())\n",
    "print(train_label)\n",
    "print(np.array(train_label.transpose()))\n",
    "model.fit(training_feature_pca_2D, float(train_label))\n",
    "\n",
    "# Evaluation\n",
    "y_pred = model.predict(test_feature_pca_2D)\n",
    "\n",
    "# Result\n",
    "acc = accuracy_score(test_label, y_pred)\n",
    "print(\"Accuracy: {:.2f}\".format(acc*100))"
   ]
  }
 ],
 "metadata": {
  "kernelspec": {
   "display_name": "Python 3",
   "language": "python",
   "name": "python3"
  },
  "language_info": {
   "codemirror_mode": {
    "name": "ipython",
    "version": 3
   },
   "file_extension": ".py",
   "mimetype": "text/x-python",
   "name": "python",
   "nbconvert_exporter": "python",
   "pygments_lexer": "ipython3",
   "version": "3.7.1"
  }
 },
 "nbformat": 4,
 "nbformat_minor": 2
}
